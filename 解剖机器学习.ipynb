{
 "cells": [
  {
   "cell_type": "markdown",
   "metadata": {},
   "source": [
    "# 解剖机器学习\n",
    "\n",
    "**樊政**，2020年7月24日"
   ]
  },
  {
   "cell_type": "markdown",
   "metadata": {},
   "source": [
    "---\n",
    "\n",
    "---"
   ]
  },
  {
   "cell_type": "markdown",
   "metadata": {},
   "source": [
    "## 一、基本概念"
   ]
  },
  {
   "cell_type": "markdown",
   "metadata": {},
   "source": [
    "### 人工智能、机器学习和深度学习"
   ]
  },
  {
   "cell_type": "markdown",
   "metadata": {},
   "source": [
    "![AI](AI.png)"
   ]
  },
  {
   "cell_type": "markdown",
   "metadata": {},
   "source": [
    "> 大多数机器学习问题可以归结为求矢量间的映射\n",
    "> $$X\\to y = A X$$"
   ]
  },
  {
   "cell_type": "markdown",
   "metadata": {},
   "source": [
    "#### 此次AI革命的主要推动是深度学习——人工神经网络的应用。但是人类并没有真正了解认知和学习的过程。AI寒冬再次来临——一个领域衰落的标志就是科学变成金融概念。\n",
    "\n",
    "* 2010-2020是这次 AI 热的关键十年，明年可能就会很少看到关于机器学习的新闻\n",
    "\n",
    "* 下一个热点（如果有的话）很可能是脑机接口（Brain Computer Interface, BCI/BMI）和人机结合（Cyborg）"
   ]
  },
  {
   "cell_type": "markdown",
   "metadata": {},
   "source": [
    "---"
   ]
  },
  {
   "cell_type": "markdown",
   "metadata": {},
   "source": [
    "### 下一个热点"
   ]
  },
  {
   "cell_type": "markdown",
   "metadata": {},
   "source": [
    "![ElonMask](ElonMask.png)"
   ]
  },
  {
   "cell_type": "markdown",
   "metadata": {},
   "source": [
    "> **机器之心**\n",
    ">\n",
    "> 近日，马斯克在 Twitter 上透露，Neuralink 正在研究一款能够使用户“直接通过芯片听音乐”的产品。\n",
    ">\n",
    "> 他表示，Neuralink ”可以帮助控制激素水平，利用它们来增强我们的能力、减轻焦虑等“。\n",
    ">\n",
    "> 马斯克：五到十年内，人将与 AI 共生。"
   ]
  },
  {
   "cell_type": "markdown",
   "metadata": {},
   "source": [
    "#### 计算机 + 金融 = 黄埔军校1945？"
   ]
  },
  {
   "cell_type": "markdown",
   "metadata": {},
   "source": [
    "---"
   ]
  },
  {
   "cell_type": "markdown",
   "metadata": {},
   "source": [
    "### 机器学习基本概念"
   ]
  },
  {
   "cell_type": "markdown",
   "metadata": {},
   "source": [
    "> 机器学习是输入数据和结果，进行模型训练并得到规则的编程范式。"
   ]
  },
  {
   "cell_type": "markdown",
   "metadata": {},
   "source": [
    "![ML](机器学习基本概念.svg)"
   ]
  },
  {
   "cell_type": "markdown",
   "metadata": {},
   "source": [
    "---"
   ]
  },
  {
   "cell_type": "markdown",
   "metadata": {},
   "source": [
    "### 一周速成学习路线"
   ]
  },
  {
   "cell_type": "markdown",
   "metadata": {},
   "source": [
    "![Learn ML](LearnML.svg)"
   ]
  },
  {
   "cell_type": "markdown",
   "metadata": {},
   "source": [
    "---\n",
    "\n",
    "---"
   ]
  },
  {
   "cell_type": "markdown",
   "metadata": {},
   "source": [
    "## 二、Python和机器学习中的分类算法"
   ]
  },
  {
   "cell_type": "markdown",
   "metadata": {},
   "source": [
    "### 0. 环境配置"
   ]
  },
  {
   "cell_type": "markdown",
   "metadata": {},
   "source": [
    "`$ <指令>` 代表在 Terminal 终端（mac）或 Powershell（windows）中输入指令，并按回车键执行。由于 mac 自带 python2，所以需要把指令中出现的第一个 `pip` 或 `python` 分别换成 `pip3` 和 `python3`，否则会默认调用 python2。"
   ]
  },
  {
   "cell_type": "markdown",
   "metadata": {},
   "source": [
    "* 安装 python3，[www.python.org](https://www.python.org)，当前可能是 python 3.8 版本，建议安装 3.7\n",
    "* 将 pipy 下载源配置为清华镜像，[mirrors.tuna.tsinghua.edu.cn/help/pypi/](https://mirrors.tuna.tsinghua.edu.cn/help/pypi/)\n",
    "* 安装所需要的 python 模块，`$ pip install <模块>`\n",
    "\n",
    "模块 | 功能\n",
    "---- | ----\n",
    "numpy | matlab\n",
    "matplotlib | 画图\n",
    "sklearn | 机器学习\n",
    "theano/tensorflow | 深度学习框架\n",
    "keras | 深度学习API\n",
    "\n",
    "  > 安装之前可先通过 `$ pip list` 查看已安装的模块"
   ]
  },
  {
   "cell_type": "markdown",
   "metadata": {},
   "source": [
    "---"
   ]
  },
  {
   "cell_type": "markdown",
   "metadata": {},
   "source": [
    "### 1. 数据集"
   ]
  },
  {
   "cell_type": "markdown",
   "metadata": {},
   "source": [
    "```python\n",
    "import numpy as np\n",
    "from sklearn import datasets\n",
    "from sklearn.model_selection import train_test_split  # 用于把样本划分训练集和测试集，以前的cross_validation模块停用\n",
    "from sklearn.preprocessing import StandardScaler      # 数据预处理，将每个特征的统计数据都缩放为标准正态分布\n",
    "\n",
    "iris = datasets.load_iris()                           # iris是Bunch类的实例化对象，包含data、target等属性\n",
    "\n",
    "X    = iris.data[:,[2,3]]                             # X是150个样本，每个样本只取花瓣长度和花瓣宽度两个特征\n",
    "y    = iris.target                                    # y是每个样本的类别标签\n",
    "\n",
    "XTrain, XTest, yTrain, yTest = train_test_split(X, y, test_size=0.3, random_state=0)  # 测试集45个样本，训练集105个样本\n",
    "dataScaler = StandardScaler()                         # 实例化一个 StandardScaler 对象\n",
    "\n",
    "dataScaler.fit(XTrain)                                # 样本缩放前先计算 mean 和 std\n",
    "XTrainStd = dataScaler.transform(XTrain)              \n",
    "                                                      # 训练集和测试集分别进行标准化处理\n",
    "dataScaler.fit(XTest)\n",
    "XTestStd  = dataScaler.transform(XTest)\n",
    "```"
   ]
  },
  {
   "cell_type": "markdown",
   "metadata": {},
   "source": [
    "* 导入 scikit-learn 机器学习包中的鸢尾花数据集"
   ]
  },
  {
   "cell_type": "code",
   "execution_count": 1,
   "metadata": {},
   "outputs": [],
   "source": [
    "import numpy as np\n",
    "from sklearn import datasets\n",
    "\n",
    "iris = datasets.load_iris()"
   ]
  },
  {
   "cell_type": "markdown",
   "metadata": {},
   "source": [
    "* 鸢尾花数据集包含***150***个样本，每个样本有***4***个特征：萼片长度、萼片宽度、花瓣长度、花瓣宽度。这些样本分属三个种类：山鸢尾（setosa），杂色鸢尾（versicolor），维吉尼亚鸢尾（virginica）。"
   ]
  },
  {
   "cell_type": "code",
   "execution_count": null,
   "metadata": {},
   "outputs": [],
   "source": [
    "??iris # 显示变量iris的类型、属性和成员函数等"
   ]
  },
  {
   "cell_type": "markdown",
   "metadata": {},
   "source": [
    "* 将150个样本的花瓣长度和花瓣宽度两个特征储存在变量`X`中，把标签（即每个样本的种类）储存在变量`y`中"
   ]
  },
  {
   "cell_type": "code",
   "execution_count": 2,
   "metadata": {},
   "outputs": [],
   "source": [
    "X = iris.data[:,[2,3]]\n",
    "y = iris.target"
   ]
  },
  {
   "cell_type": "code",
   "execution_count": null,
   "metadata": {},
   "outputs": [],
   "source": [
    "X.shape # 显示变量X的维度属性"
   ]
  },
  {
   "cell_type": "code",
   "execution_count": null,
   "metadata": {},
   "outputs": [],
   "source": [
    "iris['data'] # 变量iris属性的另一种访问方法"
   ]
  },
  {
   "cell_type": "markdown",
   "metadata": {},
   "source": [
    "* 划分训练集和测试集"
   ]
  },
  {
   "cell_type": "code",
   "execution_count": 3,
   "metadata": {},
   "outputs": [],
   "source": [
    "from sklearn.model_selection import train_test_split\n",
    "\n",
    "XTrain, XTest, yTrain, yTest = train_test_split(X, y, test_size=0.3, random_state=0)"
   ]
  },
  {
   "cell_type": "markdown",
   "metadata": {},
   "source": [
    "* 数据预处理，可有效提升训练效果。这里把每个特征的变为0，标准差变为1。"
   ]
  },
  {
   "cell_type": "code",
   "execution_count": 4,
   "metadata": {},
   "outputs": [],
   "source": [
    "from sklearn.preprocessing import StandardScaler\n",
    "\n",
    "dataScaler = StandardScaler()\n",
    "\n",
    "dataScaler.fit(XTrain)\n",
    "XTrainStd = dataScaler.transform(XTrain)\n",
    "\n",
    "dataScaler.fit(XTest)\n",
    "XTestStd  = dataScaler.transform(XTest)"
   ]
  },
  {
   "cell_type": "code",
   "execution_count": null,
   "metadata": {},
   "outputs": [],
   "source": [
    "XTest # 显示预处理前的样本测试集XTest"
   ]
  },
  {
   "cell_type": "code",
   "execution_count": null,
   "metadata": {},
   "outputs": [],
   "source": [
    "XTestStd # 显示预处理后的样本测试集XTestStd"
   ]
  },
  {
   "cell_type": "code",
   "execution_count": null,
   "metadata": {},
   "outputs": [],
   "source": [
    "np.mean(XTrainStd[:,0]) # 用numpy中的mean函数计算XTestStd第一列的均值，应该得到0"
   ]
  },
  {
   "cell_type": "code",
   "execution_count": null,
   "metadata": {},
   "outputs": [],
   "source": [
    "np.std(XTestStd[:,0]) # 用numpy中的std函数计算XTestStd第一列的标准差，应该得到1"
   ]
  },
  {
   "cell_type": "code",
   "execution_count": null,
   "metadata": {},
   "outputs": [],
   "source": [
    "np.mean(XTest[:,0]) # 未经过标准化处理的XTest第一列均值不是0"
   ]
  },
  {
   "cell_type": "code",
   "execution_count": null,
   "metadata": {},
   "outputs": [],
   "source": [
    "np.std(XTest[:,0])"
   ]
  },
  {
   "cell_type": "markdown",
   "metadata": {},
   "source": [
    "---"
   ]
  },
  {
   "cell_type": "markdown",
   "metadata": {},
   "source": [
    "### 2. 模型训练"
   ]
  },
  {
   "cell_type": "markdown",
   "metadata": {},
   "source": [
    "#### 支持向量机 SVM"
   ]
  },
  {
   "cell_type": "markdown",
   "metadata": {},
   "source": [
    "![SVM](SVM.png)"
   ]
  },
  {
   "cell_type": "markdown",
   "metadata": {},
   "source": [
    "平面的矢量表达式为\n",
    "\n",
    "$$w\\cdot x\\equiv b,\\textrm{ 也可写成 } w^T x - b=0$$\n",
    "\n",
    "$w$ 为平面的法向量，$x$ 为平面上任一点的位置矢量，$b$ 为常数。空间中任一点 $x$ 到平面的距离是\n",
    "\n",
    "$$d = \\frac{|w^T x-b|}{||w||}$$\n",
    "\n",
    "其中 $||w||$ 为法向量的长度。\n",
    "\n",
    "支持向量机即找到一个超平面，把不同类别的样本划分到超平面两侧。两类样本中距离超平面最近的点称为***支持向量***。\n",
    "\n",
    "$x_{+S}$ 和 $x_{-S}$ 分别代表两类样本的支持向量，到超平面的距离分别为。若超平面的方程为 $w^T x -b=0$，则可以通过平移超平面和缩放坐标使得支持向量分别满足\n",
    "\n",
    "$$w^T x_{+S}-b=1,\\quad w^T x_{-S}-b =-1$$\n",
    "\n",
    "此时两类样本到超平面的距离分别为\n",
    "\n",
    "$$d_+ = \\frac{w^T x_{+S}-b}{||w||}=\\frac{1}{||w||}, \\quad d_- = -\\frac{w^T x_{-S}-b}{||w||}=\\frac{1}{||w||}$$\n",
    "\n",
    "因此两类样本的间隔定义为\n",
    "\n",
    "$$d = d_+ + d_- = \\frac{2}{||w||}$$\n",
    "\n",
    "超平面的可表示为求条件极值\n",
    "\n",
    "$$\\max \\frac{2}{||w||} ~\\Leftrightarrow~ \\min \\frac 1 2 ||w||^2$$\n",
    "\n",
    "$$\\textrm{s.t.}\\quad (w^T x_{+S} -b)= 1,\\quad (w^T x_{-S} -b)= -1$$"
   ]
  },
  {
   "cell_type": "markdown",
   "metadata": {},
   "source": [
    "在 python 中使用支持向量机：\n",
    "\n",
    "```python\n",
    "from sklearn.svm import SVC                              # SVC 即 Support Vector Classification\n",
    "from sklearn.metrics import accuracy_score               # 导入准确率验证函数\n",
    "\n",
    "svm = SVC(kernel='linear', random_state=0)               # 建立模型，svm是SVC类的一个实例化对象\n",
    "\n",
    "svm.fit(XTrainStd, yTrain)                               # Key Step 1: 模型训练\n",
    "yPredict = svm.predict(XTestStd)                         # Key Step 2: 模型预测\n",
    "\n",
    "accuracy = accuracy_score(y_true=yTest, y_pred=yPredict) # 计算模型的准确率\n",
    "```"
   ]
  },
  {
   "cell_type": "markdown",
   "metadata": {},
   "source": [
    "* 初始化 svm 模型"
   ]
  },
  {
   "cell_type": "code",
   "execution_count": 5,
   "metadata": {},
   "outputs": [],
   "source": [
    "from sklearn.svm import SVC\n",
    "\n",
    "svm = SVC(kernel='linear', random_state=0)"
   ]
  },
  {
   "cell_type": "code",
   "execution_count": null,
   "metadata": {},
   "outputs": [],
   "source": [
    "??svm # 显示 svm 的属性和使用方法"
   ]
  },
  {
   "cell_type": "markdown",
   "metadata": {},
   "source": [
    "* 模型训练和预测"
   ]
  },
  {
   "cell_type": "code",
   "execution_count": 6,
   "metadata": {},
   "outputs": [
    {
     "data": {
      "text/plain": [
       "SVC(C=1.0, cache_size=200, class_weight=None, coef0=0.0,\n",
       "  decision_function_shape='ovr', degree=3, gamma='auto', kernel='linear',\n",
       "  max_iter=-1, probability=False, random_state=0, shrinking=True,\n",
       "  tol=0.001, verbose=False)"
      ]
     },
     "execution_count": 6,
     "metadata": {},
     "output_type": "execute_result"
    }
   ],
   "source": [
    "svm.fit(XTrainStd, yTrain) # 具体的优化过程都封装在 svm 的成员函数 fit 中了，只需输入训练数据和标签即可训练模型"
   ]
  },
  {
   "cell_type": "code",
   "execution_count": 7,
   "metadata": {},
   "outputs": [],
   "source": [
    "yPredict = svm.predict(XTestStd) # 用训练好的模型对测试集进行预测"
   ]
  },
  {
   "cell_type": "markdown",
   "metadata": {},
   "source": [
    "* 计算模型的准确率"
   ]
  },
  {
   "cell_type": "code",
   "execution_count": 8,
   "metadata": {},
   "outputs": [
    {
     "data": {
      "text/plain": [
       "0.9333333333333333"
      ]
     },
     "execution_count": 8,
     "metadata": {},
     "output_type": "execute_result"
    }
   ],
   "source": [
    "from sklearn.metrics import accuracy_score\n",
    "\n",
    "accuracy_score(y_true=yTest, y_pred=yPredict) # 直接调用 accuracy_score 函数计算准确率"
   ]
  },
  {
   "cell_type": "code",
   "execution_count": null,
   "metadata": {},
   "outputs": [],
   "source": [
    "yPredict # 显示测试集预测的标签"
   ]
  },
  {
   "cell_type": "code",
   "execution_count": null,
   "metadata": {},
   "outputs": [],
   "source": [
    "yTest # 显示测试集的真实标签"
   ]
  },
  {
   "cell_type": "code",
   "execution_count": null,
   "metadata": {},
   "outputs": [],
   "source": [
    "yTest-yPredict # 预测结果与真实结果对比，准确率大约为93%"
   ]
  },
  {
   "cell_type": "code",
   "execution_count": null,
   "metadata": {},
   "outputs": [],
   "source": [
    "np.sum(yTest==yPredict)/yTest.size # 准确率的手动计算方法"
   ]
  },
  {
   "cell_type": "markdown",
   "metadata": {},
   "source": [
    "非线性分类可先映射至高维度空间，然后再利用超平面分类。"
   ]
  },
  {
   "cell_type": "markdown",
   "metadata": {},
   "source": [
    "---"
   ]
  },
  {
   "cell_type": "markdown",
   "metadata": {},
   "source": [
    "#### 决策树"
   ]
  },
  {
   "cell_type": "markdown",
   "metadata": {},
   "source": [
    "![tree](tree.png)"
   ]
  },
  {
   "cell_type": "markdown",
   "metadata": {},
   "source": [
    "每进行一次判断，相当于在样本空间中做一次划分。根据判断前后的样本分布，可以计算出这次判断的信息增益。决策树通过信息增益最大来划分样本空间。\n",
    "\n",
    "总样本集合为 $D$， 每一个节点的信息熵\n",
    "\n",
    "$$E(D) = -\\sum_i p_i \\log p_i$$\n",
    "\n",
    "$i$ 为类别编号。经过判断之后，将样本划分为不同区域。信息增益定义为\n",
    "\n",
    "$$GI = E(D)-\\sum_a \\frac{D_a}{D} E(D_a)$$\n",
    "\n",
    "$D_a/D$ 表示划分后子区域 $a$ 中的样本数与划分前父区域样本总数的比值。信息增益越大，则根据这一属性划分的结果越纯。除信息熵外，决策树还可以使用其他判据计算信息增益。"
   ]
  },
  {
   "cell_type": "markdown",
   "metadata": {},
   "source": [
    "在 python 中使用决策树：\n",
    "\n",
    "```python\n",
    "from sklearn.tree import DecisionTreeClassifier          # 导入 sklearn 中的决策树分类器模型（还有决策树回归器）\n",
    "from sklearn.metrics import accuracy_score               # 导入准确率验证函数\n",
    "\n",
    "tree = DecisionTreeClassifier(criterion='entropy', max_depth=3, random_state=0) # 初始化决策树模型\n",
    "\n",
    "tree.fit(XTrain,yTrain)                                  # Key Step 1: 模型训练\n",
    "yPredict = tree.predict(XTest)                           # Key Step 2: 模型预测\n",
    "\n",
    "accuracy = accuracy_score(y_true=yTest, y_pred=yPredict) # 计算模型的准确率\n",
    "```"
   ]
  },
  {
   "cell_type": "markdown",
   "metadata": {},
   "source": [
    "* 初始化决策树模型，用信息熵计算信息增益，最大树深度为3"
   ]
  },
  {
   "cell_type": "code",
   "execution_count": 9,
   "metadata": {},
   "outputs": [],
   "source": [
    "from sklearn.tree import DecisionTreeClassifier\n",
    "\n",
    "tree = DecisionTreeClassifier(criterion='entropy', max_depth=3, random_state=0)"
   ]
  },
  {
   "cell_type": "markdown",
   "metadata": {},
   "source": [
    "* 模型训练和预测"
   ]
  },
  {
   "cell_type": "code",
   "execution_count": 10,
   "metadata": {},
   "outputs": [
    {
     "data": {
      "text/plain": [
       "DecisionTreeClassifier(class_weight=None, criterion='entropy', max_depth=3,\n",
       "            max_features=None, max_leaf_nodes=None,\n",
       "            min_impurity_decrease=0.0, min_impurity_split=None,\n",
       "            min_samples_leaf=1, min_samples_split=2,\n",
       "            min_weight_fraction_leaf=0.0, presort=False, random_state=0,\n",
       "            splitter='best')"
      ]
     },
     "execution_count": 10,
     "metadata": {},
     "output_type": "execute_result"
    }
   ],
   "source": [
    "tree.fit(XTrain,yTrain)"
   ]
  },
  {
   "cell_type": "code",
   "execution_count": 11,
   "metadata": {},
   "outputs": [],
   "source": [
    "yPredict = tree.predict(XTest)"
   ]
  },
  {
   "cell_type": "markdown",
   "metadata": {},
   "source": [
    "* 计算模型的准确率"
   ]
  },
  {
   "cell_type": "code",
   "execution_count": 12,
   "metadata": {},
   "outputs": [
    {
     "data": {
      "text/plain": [
       "0.9777777777777777"
      ]
     },
     "execution_count": 12,
     "metadata": {},
     "output_type": "execute_result"
    }
   ],
   "source": [
    "from sklearn.metrics import accuracy_score\n",
    "\n",
    "accuracy_score(y_true=yTest, y_pred=yPredict)"
   ]
  },
  {
   "cell_type": "markdown",
   "metadata": {},
   "source": [
    "* 训练好的决策树模型导出为.dot格式，.dot格式可转化为其他图片"
   ]
  },
  {
   "cell_type": "code",
   "execution_count": null,
   "metadata": {},
   "outputs": [],
   "source": [
    "from sklearn.tree import export_graphviz \n",
    "\n",
    "export_graphviz(tree, out_file='tree.dot', feature_names=['petal length', 'petal width'])"
   ]
  },
  {
   "cell_type": "markdown",
   "metadata": {},
   "source": [
    "![tree](tree-en.png)"
   ]
  },
  {
   "cell_type": "markdown",
   "metadata": {},
   "source": [
    "* 演示上图中初始节点信息熵的计算过程"
   ]
  },
  {
   "cell_type": "code",
   "execution_count": 13,
   "metadata": {},
   "outputs": [
    {
     "data": {
      "text/plain": [
       "1.5799176782552726"
      ]
     },
     "execution_count": 13,
     "metadata": {},
     "output_type": "execute_result"
    }
   ],
   "source": [
    "n = 105\n",
    "p = np.array([34,32,39])/n\n",
    "entropy0 = -np.sum(p*np.log2(p))\n",
    "entropy0"
   ]
  },
  {
   "cell_type": "markdown",
   "metadata": {},
   "source": [
    "多棵决策树可形成决策树森林，分类能力更强且不易造成过拟合。"
   ]
  },
  {
   "cell_type": "markdown",
   "metadata": {},
   "source": [
    "---"
   ]
  },
  {
   "cell_type": "markdown",
   "metadata": {},
   "source": [
    "#### 人工神经网络"
   ]
  },
  {
   "cell_type": "markdown",
   "metadata": {},
   "source": [
    "训练集 `XTrain` 包含 105 个样本，带括号的上标代表样本编号，每个样本**矢量**表示为\n",
    "\n",
    "$$x^{(\\alpha)},~\\alpha = 1,\\dots,105$$\n",
    "\n",
    "每个样本矢量有两个**分量**，分别为花瓣长度和花瓣宽度，用下标表示\n",
    "\n",
    "$$x^{(\\alpha)}_i,~i=1,2$$"
   ]
  },
  {
   "cell_type": "markdown",
   "metadata": {},
   "source": [
    "![Neural Network](Neural Network.svg)"
   ]
  },
  {
   "cell_type": "markdown",
   "metadata": {},
   "source": [
    "人工神经元包含两个特征：\n",
    "\n",
    "* 激活函数 $\\phi$\n",
    "  \n",
    "  通常需要人为指定，常用类型包括 sgn, logistic (sigmoid), relu 等。最早的人工神经元模型以阶跃函数 sgn 作为激活函数，只有0和1两种状态。当输入大于阈值时，神经元处于激活状态。\n",
    "  \n",
    "  \n",
    "* 阈值 $\\theta$\n",
    "\n",
    "  神经元的输出值为 $\\widehat{y}^{(\\alpha)} = \\phi(\\sum w_i x^{(\\alpha)}_i -\\theta)$。\n",
    "\n",
    "${}$单个人工神经元构成一个***感知器*** (Perceptron)。感知器利用样本对权重 $w_i$ 和阈值 $\\theta$ 进行训练，以使输出值 $\\widehat{y}$ 接近真实的标签值 $y$。\n",
    "\n",
    "> 感知器只能进行线性分类，而当使用两层神经元时，就可以解决非线性分类问题。深度学习即包含两层及以上的人工神经网络，应用通常可达上百层。深度增大时，模型的学习能力增强，但训练难度增大且更可能出现过拟合。\n",
    "\n",
    "人工神经网络包含输入层、隐含层和输出层，其中输入层只是传递样本的分量，不进行运算；而隐含层和输出层都是功能性神经元。样本的类别标签 `y` 可以取 `0,1,2`。使用人工神经网络时，需要先把标签转化为矢量，即 `0->[1,0,0], 1->[0,1,0], 2->[0,0,1]`。人工神经网络即找到输入矢量和输出矢量间的映射。\n",
    "\n",
    "$w_{l,ij}$ 表示第 $l-1$ 层第 $i$ 个神经元输入到第 $l$ 层第 $j$ 个神经元的权重。在训练过程中，人工神经网络的输出值为 $\\hat{y}$，可根据输出值和训练样本的真实标签计算出***损失函数***（Loss Function）。$J$ 可以是 $\\widehat{y}$ 的函数，也可以是 $w_{l,ij}$ 的函数。训练的过程即利用***优化器***（Optimizer）更新权重的值，使损失函数收敛到最小值。\n",
    "\n",
    "${}$优化器通常采用随机梯度下降算法。理想状态下 $\\widehat{y}=y$，而二者不相等时，损失函数相比理想状态时的增量为 $\\Delta J \\approx \\frac{\\partial J}{\\partial \\widehat{y}}(\\widehat{y}-y)$。优化的目标即使得 $\\Delta J$ 不断减小。又因为 $J$ 也是 $w$ 的函数，当权重值发生微小变化 $w_{l,kj}\\rightarrow w_{l,kj}+\\Delta w_{l,kj}$ 时，损失函数的变化量为\n",
    "\n",
    "$$\\Delta J = \\frac{\\partial J}{\\partial w_{l,kj}}\\Delta w_{l,kj}$$\n",
    "\n",
    "${}$利用各层层神经元激活函数的性质，可以把上式中的梯度转化为 $\\widehat{y}$ 和 $y$ 的函数，比如对输出层\n",
    "\n",
    "$$\\frac{\\partial J}{\\partial w_{2,kj}}=\\frac{\\partial J}{\\partial \\widehat{y}_j}\\frac{\\partial \\widehat{y}_j}{\\partial w_{2,kj}}=g_j(\\widehat{y}_j,y_j)$$\n",
    "\n",
    "如果沿着梯度的反方向更新权重，\n",
    "\n",
    "$$\\Delta w_{2,kj} = -\\eta g_j(\\widehat{y}_j,y_j)$$\n",
    "\n",
    "${}$则 $\\Delta J = -\\eta \\left|g(\\widehat{y},y)\\right|^2$，可以使 $\\Delta J$ 不断减小。输出层的权重较容易计算，在此基础上可利用链式法则求前一层的权重函数，这种向前传递误差的方法称为***反向传播***（BackPropagation，BP）。"
   ]
  },
  {
   "cell_type": "markdown",
   "metadata": {},
   "source": [
    "在 python 中进行深度学习：\n",
    "\n",
    "```python\n",
    "from keras.models          import Sequential          # Sequential 是整个人工神经网络的容器\n",
    "from keras.layers          import Dense, Activation   # Dense 为神经网络的层，Activation 为激活函数\n",
    "from keras.optimizers      import SGD                 # SGD 是随机梯度下降优化器\n",
    "from sklearn.preprocessing import LabelBinarizer      # 导入 LabelBinarizer 函数，用于将标签转化为矢量\n",
    "from sklearn.metrics       import accuracy_score      # 导入 sklearn 的准确率验证函数，注意 keras 自身也有准确率函数\n",
    "\n",
    "\n",
    "dnn = Sequential(               # 初始化人工神经网络模型，dnn 是 Sequential 的一个实例化对象\n",
    "[\n",
    "    Dense(4, input_dim=2),      # 建立第一层4个神经元，输入为2维（即样本矢量的维度）\n",
    "    Activation(\"relu\"),         # 指定第一层神经元的激活函数为 relu\n",
    "    Dense(3                     # 建立第二层3个神经元，输入维度自动设为上一层神经元的个数\n",
    "    Activation(\"sigmoid\"),      # 指定第二层神经元的激活函数为 sigmoid\n",
    "])\n",
    "\n",
    "sgd = SGD(lr=0.01, decay=1e-6, momentum=0.9, nesterov=True) #初始化一个随机梯度下降函数\n",
    "\n",
    "dnn.compile(optimizer=sgd, loss='categorical_crossentropy') # 编译人工神经网络模型\n",
    "\n",
    "label  = LabelBinarizer()                            \n",
    "yTrainLabel = label.fit_transform(yTrain)             # 把训练集标签转化为矢量，即 0->[1,0,0], 1->[0,1,0], 2->[0,0,1]\n",
    "\n",
    "trainingProcess=dnn.fit(XTrain, yTrainLabel, epochs=500, batch_size=40) # 模型训练，并用变量 trainingProcess 存储训练过程\n",
    "\n",
    "yPredict = dnn.predict_classes(XTest)                       # 模型预测\n",
    "\n",
    "accuracy = accuracy_score(y_true=yTest, y_pred=yPredict)    # 计算模型的准确率\n",
    "```"
   ]
  },
  {
   "cell_type": "markdown",
   "metadata": {},
   "source": [
    "* 构建人工神经网络模型\n",
    "\n",
    "  常见的激活函数可以参考 [https://baike.baidu.com/item/激活函数](https://baike.baidu.com/item/激活函数)，[https://www.analyticsvidhya.com/blog/2020/01/fundamentals-deep-learning-activation-functions-when-to-use-them/](https://www.analyticsvidhya.com/blog/2020/01/fundamentals-deep-learning-activation-functions-when-to-use-them/)"
   ]
  },
  {
   "cell_type": "code",
   "execution_count": 14,
   "metadata": {},
   "outputs": [
    {
     "name": "stderr",
     "output_type": "stream",
     "text": [
      "Using Theano backend.\n"
     ]
    }
   ],
   "source": [
    "from keras.models import Sequential         \n",
    "from keras.layers import Dense, Activation   \n",
    "\n",
    "dnn = Sequential(                                  \n",
    "[\n",
    "    Dense(4, input_dim=2),      \n",
    "    Activation(\"relu\"),      \n",
    "    Dense(3),                \n",
    "    Activation(\"sigmoid\"),  \n",
    "])"
   ]
  },
  {
   "cell_type": "markdown",
   "metadata": {},
   "source": [
    "* 初始化优化器函数。这里使用随机梯度下降算法，“随机”含义是权重和阈值的初始值随机设定（通常设为很小的数）\n",
    "\n",
    "  `lr` 是学习率，应取足够小的数。并且 `lr` 可以随着迭代次数的增加逐渐减小，减小的值就是 `decay`。采用 `nesterov` 动量方法对梯度下降进行加速，并且避免模型陷入局部极小值。`momentum` 决定加速程度，应选取大于 0 的数"
   ]
  },
  {
   "cell_type": "code",
   "execution_count": 15,
   "metadata": {},
   "outputs": [],
   "source": [
    "from keras.optimizers import SGD  \n",
    "\n",
    "sgd = SGD(lr=0.01, decay=1e-6, momentum=0.9, nesterov=True)"
   ]
  },
  {
   "cell_type": "markdown",
   "metadata": {},
   "source": [
    "* 人工神经网络模型需要编译，并指定优化器和损失函数。这里的损失函数采用 `categorical_crossentropy`\n",
    "\n",
    "  模型 API 可以参考 keras 官方文档 [https://keras.io/api/models/model_training_apis/](https://keras.io/api/models/model_training_apis/)"
   ]
  },
  {
   "cell_type": "code",
   "execution_count": 16,
   "metadata": {},
   "outputs": [],
   "source": [
    "dnn.compile(optimizer=sgd, loss='categorical_crossentropy')"
   ]
  },
  {
   "cell_type": "markdown",
   "metadata": {},
   "source": [
    "* 把标签转化为矢量"
   ]
  },
  {
   "cell_type": "code",
   "execution_count": 17,
   "metadata": {},
   "outputs": [],
   "source": [
    "from sklearn.preprocessing import LabelBinarizer\n",
    "\n",
    "label  = LabelBinarizer()                            \n",
    "yTrainLabel = label.fit_transform(yTrain)"
   ]
  },
  {
   "cell_type": "markdown",
   "metadata": {},
   "source": [
    "* 模型训练和预测。默认显示每一步的训练过程，可以在单元格开头加上魔法函数 `%%capture` 隐藏本单元格的输出。\n",
    "\n",
    "  `epochs` 为 `XTrainStd` 和 `yTrainLabel` 全部被迭代的次数，默认为1。通常需要指定为一个足够大的数。`batch_size` 为每次迭代使用的样本数，默认为32"
   ]
  },
  {
   "cell_type": "code",
   "execution_count": 18,
   "metadata": {},
   "outputs": [],
   "source": [
    "%%capture\n",
    "\n",
    "trainingProcess=dnn.fit(XTrain, yTrainLabel, epochs=500, batch_size=40)"
   ]
  },
  {
   "cell_type": "code",
   "execution_count": 19,
   "metadata": {},
   "outputs": [],
   "source": [
    "yPredict = dnn.predict_classes(XTest) #这里 predict_classes 会把矢量标签转化成原来的类别"
   ]
  },
  {
   "cell_type": "markdown",
   "metadata": {},
   "source": [
    "* 计算模型的准确率"
   ]
  },
  {
   "cell_type": "code",
   "execution_count": 20,
   "metadata": {},
   "outputs": [
    {
     "data": {
      "text/plain": [
       "0.9777777777777777"
      ]
     },
     "execution_count": 20,
     "metadata": {},
     "output_type": "execute_result"
    }
   ],
   "source": [
    "from sklearn.metrics import accuracy_score\n",
    "\n",
    "accuracy_score(y_true=yTest, y_pred=yPredict)"
   ]
  },
  {
   "cell_type": "markdown",
   "metadata": {},
   "source": [
    "* 导出模型，即导出权重值，下次使用时可直接 `dnn.load_weights(\"Weights of DNN\")`"
   ]
  },
  {
   "cell_type": "code",
   "execution_count": null,
   "metadata": {},
   "outputs": [],
   "source": [
    "dnn.save_weights(\"Weights of DNN\")"
   ]
  },
  {
   "cell_type": "markdown",
   "metadata": {},
   "source": [
    "* 画出模型训练过程中，损失函数的变化，可以看到损失函数逐渐收敛"
   ]
  },
  {
   "cell_type": "code",
   "execution_count": 23,
   "metadata": {},
   "outputs": [
    {
     "data": {
      "image/png": "[encoded data removed]",
      "text/plain": [
       "<matplotlib.figure.Figure at 0x113121588>"
      ]
     },
     "metadata": {},
     "output_type": "display_data"
    }
   ],
   "source": [
    "import matplotlib.pyplot as plt\n",
    "\n",
    "lossFunction = trainingProcess.history['loss']\n",
    "\n",
    "plt.plot(range(len(lossFunction)), lossFunction);\n",
    "plt.xlabel('Epoch')\n",
    "plt.ylabel('Loss Function')\n",
    "plt.show()"
   ]
  },
  {
   "cell_type": "markdown",
   "metadata": {},
   "source": [
    "---"
   ]
  },
  {
   "cell_type": "markdown",
   "metadata": {},
   "source": [
    "### 3. 分类结果可视化"
   ]
  },
  {
   "cell_type": "markdown",
   "metadata": {},
   "source": [
    "* 定义二维分类画图函数 plot_decision_regions( )"
   ]
  },
  {
   "cell_type": "code",
   "execution_count": 24,
   "metadata": {},
   "outputs": [],
   "source": [
    "import matplotlib.pyplot as plt\n",
    "from matplotlib.colors import ListedColormap\n",
    "\n",
    "def plot_decision_regions(X, y, classifier, test_idx=None, resolution=0.02):\n",
    "    \n",
    "    markers = ('1', 'x','+','s', 'o', '^', 'v')\n",
    "    colors = ('red', 'blue', 'lightgreen', 'gray', 'cyan')\n",
    "    cmap = ListedColormap(colors[:len(np.unique(y))])\n",
    "    \n",
    "    # plot the decision surface\n",
    "    x1_min, x1_max = X[:, 0].min() - 1, X[:, 0].max() + 1\n",
    "    x2_min, x2_max = X[:, 1].min() - 1, X[:, 1].max() + 1\n",
    "    xx1, xx2 = np.meshgrid(np.arange(x1_min, x1_max, resolution),\n",
    "    np.arange(x2_min, x2_max, resolution))\n",
    "    Z = classifier.predict(np.array([xx1.ravel(), xx2.ravel()]).T)\n",
    "    if(Z[0].size != 1):\n",
    "        Z = classifier.predict_classes(np.array([xx1.ravel(), xx2.ravel()]).T)\n",
    "    Z = Z.reshape(xx1.shape)\n",
    "    plt.contourf(xx1, xx2, Z, alpha=0.4, cmap=cmap)\n",
    "    plt.xlim(xx1.min(), xx1.max())\n",
    "    plt.ylim(xx2.min(), xx2.max())\n",
    "    \n",
    "    # plot all samples\n",
    "    for idx, cl in enumerate(np.unique(y)):\n",
    "        plt.scatter(x=X[y == cl, 0], y=X[y == cl, 1], alpha=0.8, c=cmap(idx), marker=markers[idx], label=cl)\n",
    "    \n",
    "    # highlight test samples\n",
    "    if test_idx:\n",
    "        X_test, y_test = X[test_idx, :], y[test_idx]\n",
    "        for idx, cl in enumerate(np.unique(y)):\n",
    "            plt.scatter(x=X_test[y_test == cl, 0], y=X_test[y_test == cl, 1], alpha=1.0, c=cmap(idx), \n",
    "                        marker='o', s=55, label='test set')"
   ]
  },
  {
   "cell_type": "markdown",
   "metadata": {},
   "source": [
    "---"
   ]
  },
  {
   "cell_type": "markdown",
   "metadata": {},
   "source": [
    "* SVM 分类可视化"
   ]
  },
  {
   "cell_type": "code",
   "execution_count": 25,
   "metadata": {},
   "outputs": [
    {
     "data": {
      "image/png": "[encoded data removed]",
      "text/plain": [
       "<matplotlib.figure.Figure at 0x10dca0cf8>"
      ]
     },
     "metadata": {},
     "output_type": "display_data"
    }
   ],
   "source": [
    "XCombinedStd = np.vstack((XTrainStd, XTestStd)) # 合并标准化处理后的训练集和测试集样本\n",
    "yCombined = np.hstack((yTrain, yTest))          # 合并训练集和测试集标签\n",
    "\n",
    "plot_decision_regions(XCombinedStd, yCombined, classifier=svm, test_idx=range(105,150))\n",
    "plt.xlabel('petal length [standardized]')\n",
    "plt.ylabel('petal width [standardized]')\n",
    "plt.legend(loc='upper right')\n",
    "plt.title('SVM');"
   ]
  },
  {
   "cell_type": "markdown",
   "metadata": {},
   "source": [
    "---"
   ]
  },
  {
   "cell_type": "markdown",
   "metadata": {},
   "source": [
    "* 决策树分类可视化"
   ]
  },
  {
   "cell_type": "code",
   "execution_count": 26,
   "metadata": {},
   "outputs": [
    {
     "data": {
      "image/png": "[encoded data removed]",
      "text/plain": [
       "<matplotlib.figure.Figure at 0x11214df28>"
      ]
     },
     "metadata": {},
     "output_type": "display_data"
    }
   ],
   "source": [
    "XCombined = np.vstack((XTrain, XTest))          # 合并训练集和测试集样本，注意决策树使用的是未经标准化处理的样本\n",
    "yCombined = np.hstack((yTrain, yTest))          # 合并训练集和分类集标签\n",
    "\n",
    "plot_decision_regions(XCombined, yCombined, classifier=tree, test_idx=range(105,150))\n",
    "plt.xlabel('petal length')\n",
    "plt.ylabel('petal width')\n",
    "plt.legend(loc='upper right')\n",
    "plt.title('Decision Tree');"
   ]
  },
  {
   "cell_type": "markdown",
   "metadata": {},
   "source": [
    "---"
   ]
  },
  {
   "cell_type": "markdown",
   "metadata": {},
   "source": [
    "* 人工神经网络分类可视化"
   ]
  },
  {
   "cell_type": "code",
   "execution_count": 27,
   "metadata": {},
   "outputs": [
    {
     "data": {
      "image/png": "[encoded data removed]",
      "text/plain": [
       "<matplotlib.figure.Figure at 0x1122615c0>"
      ]
     },
     "metadata": {},
     "output_type": "display_data"
    }
   ],
   "source": [
    "XCombined = np.vstack((XTrain, XTest))          # 合并训练集和测试集样本，注意此处人工神经网络使用的是未经标准化处理的样本\n",
    "yCombined = np.hstack((yTrain, yTest))          # 合并训练集和分类集标签\n",
    "\n",
    "plot_decision_regions(XCombined, yCombined, classifier=dnn, test_idx=range(105,150))\n",
    "plt.xlabel('petal length')\n",
    "plt.ylabel('petal width')\n",
    "plt.legend(loc='upper right')\n",
    "plt.title('DNN');"
   ]
  }
 ],
 "metadata": {
  "kernelspec": {
   "display_name": "Python 3",
   "language": "python",
   "name": "python3"
  },
  "language_info": {
   "codemirror_mode": {
    "name": "ipython",
    "version": 3
   },
   "file_extension": ".py",
   "mimetype": "text/x-python",
   "name": "python",
   "nbconvert_exporter": "python",
   "pygments_lexer": "ipython3",
   "version": "3.6.4"
  }
 },
 "nbformat": 4,
 "nbformat_minor": 2
}
